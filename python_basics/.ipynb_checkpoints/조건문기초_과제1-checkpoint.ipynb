{
 "cells": [
  {
   "cell_type": "markdown",
   "id": "mobile-donor",
   "metadata": {},
   "source": [
    "## 과제\n",
    "## 휴먼기계바이오공학부\n",
    "## 1770088 이해영"
   ]
  },
  {
   "cell_type": "markdown",
   "id": "parallel-ocean",
   "metadata": {},
   "source": [
    "### 과제 1\n",
    "- 물건 구입 시, 금액이 10만원 이상인 경우 5% 할인가를 출력하는 프로그램을 작성하시오.\n",
    "- input : 500000\n",
    "- output : 475000"
   ]
  },
  {
   "cell_type": "code",
   "execution_count": 16,
   "id": "directed-comfort",
   "metadata": {
    "scrolled": true
   },
   "outputs": [
    {
     "name": "stdout",
     "output_type": "stream",
     "text": [
      "500000\n",
      "475000\n"
     ]
    }
   ],
   "source": [
    "price = int(input())\n",
    "\n",
    "if (price > 100000) :\n",
    "    discount = int(price * 0.95)\n",
    "    print(discount)\n",
    "else :\n",
    "    print(\"10만원 미만인 물건은 5% 할인이 적용되지 않아\", price, \"원 입니다.\")"
   ]
  },
  {
   "cell_type": "markdown",
   "id": "silver-mistress",
   "metadata": {},
   "source": [
    "### 과제 2\n",
    "- 문자열을 입력받아 중앙에 있는 문자를 출력하는 프로그램을 작성하시오.\n",
    "- 단, 문자열이 짝수라면 두 글자를 출력\n",
    "- input : 컴퓨터적사고\n",
    "- output : 터적"
   ]
  },
  {
   "cell_type": "code",
   "execution_count": 52,
   "id": "becoming-submission",
   "metadata": {},
   "outputs": [
    {
     "name": "stdout",
     "output_type": "stream",
     "text": [
      "컴퓨터적사고\n",
      "터 적\n"
     ]
    }
   ],
   "source": [
    "word = input()\n",
    "mid = int(len(word) / 2)\n",
    "\n",
    "if (len(word) % 2 == 0) :\n",
    "    print(word[mid-1],word[mid])\n",
    "    \n",
    "else :\n",
    "    print(word[mid])"
   ]
  },
  {
   "cell_type": "markdown",
   "id": "loving-toilet",
   "metadata": {},
   "source": [
    "### 과제 3\n",
    "- 사용자로부터 이수학점과 평점을 입력받아, 졸업 가능 여부를 출력하는 프로그램을 작성하시오.\n",
    "- 기준 : 이수 학점은 140학점, 평점은 2.0\n",
    "- input1 : 139\n",
    "- input2 : 평점 4\n",
    "- output : 졸업을 할 수 없습니다."
   ]
  },
  {
   "cell_type": "code",
   "execution_count": 59,
   "id": "judicial-decrease",
   "metadata": {},
   "outputs": [
    {
     "name": "stdout",
     "output_type": "stream",
     "text": [
      "139\n",
      "평점 4\n",
      "졸업을 할 수 없습니다.\n"
     ]
    }
   ],
   "source": [
    "num = int(input())\n",
    "score = float(input(\"평점 \"))\n",
    "\n",
    "if (num >= 140 and score >= 2.0) :\n",
    "    print(\"졸업을 할 수 있습니다.\")\n",
    "else :\n",
    "    print(\"졸업을 할 수 없습니다.\")"
   ]
  },
  {
   "cell_type": "markdown",
   "id": "opened-batman",
   "metadata": {},
   "source": [
    "### 과제 4\n",
    "- 중첩조건문을 사용하여, 사용자로부터 값을 입력받아 양수, 음수, 0을 판별하는 프로그램을 작성하시오.\n",
    "- input : -10\n",
    "- output : 음수"
   ]
  },
  {
   "cell_type": "code",
   "execution_count": 64,
   "id": "accepted-shakespeare",
   "metadata": {},
   "outputs": [
    {
     "name": "stdout",
     "output_type": "stream",
     "text": [
      "-10\n",
      "음수\n"
     ]
    }
   ],
   "source": [
    "num = int(input())\n",
    "\n",
    "if (num == 0) :\n",
    "    print(\"0\")\n",
    "else :\n",
    "    if (num > 0) :\n",
    "        print(\"양수\")\n",
    "    else :\n",
    "        print(\"음수\")"
   ]
  },
  {
   "cell_type": "code",
   "execution_count": null,
   "id": "renewable-warner",
   "metadata": {},
   "outputs": [],
   "source": []
  },
  {
   "cell_type": "code",
   "execution_count": null,
   "id": "returning-funeral",
   "metadata": {},
   "outputs": [],
   "source": []
  },
  {
   "cell_type": "code",
   "execution_count": null,
   "id": "monthly-flesh",
   "metadata": {},
   "outputs": [],
   "source": []
  }
 ],
 "metadata": {
  "kernelspec": {
   "display_name": "Python 3",
   "language": "python",
   "name": "python3"
  },
  "language_info": {
   "codemirror_mode": {
    "name": "ipython",
    "version": 3
   },
   "file_extension": ".py",
   "mimetype": "text/x-python",
   "name": "python",
   "nbconvert_exporter": "python",
   "pygments_lexer": "ipython3",
   "version": "3.7.4"
  }
 },
 "nbformat": 4,
 "nbformat_minor": 5
}
