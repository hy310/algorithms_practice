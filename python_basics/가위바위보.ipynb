{
 "cells": [
  {
   "cell_type": "markdown",
   "id": "instructional-commissioner",
   "metadata": {},
   "source": [
    "##### 가위바위보 게임\n",
    "\n",
    "- 사용자로부터 가위바위보 입력, 컴퓨터는 랜덤하게 선택, 이를 비교하여 승패 출력\n",
    "- 사용자가 낸 것, 컴퓨터가 낸 것,승패여부 함께 출력"
   ]
  },
  {
   "cell_type": "code",
   "execution_count": 5,
   "id": "unique-while",
   "metadata": {},
   "outputs": [
    {
     "name": "stdout",
     "output_type": "stream",
     "text": [
      "가위, 바위, 보 중 하나를 입력하세요 : 바위\n",
      "사용자 :  바위\n",
      "컴퓨터 :  가위\n",
      "승리\n"
     ]
    }
   ],
   "source": [
    "import random\n",
    "\n",
    "사용자 = input(\"가위, 바위, 보 중 하나를 입력하세요 : \")\n",
    "print(\"사용자 : \", 사용자)\n",
    "\n",
    "# 컴퓨터가 가위바위보 선택\n",
    "컴퓨터 = random.randint(1,3)\n",
    "\n",
    "if 컴퓨터 == 1:\n",
    "    컴퓨터 = '가위'\n",
    "elif 컴퓨터 == 2:\n",
    "    컴퓨터 = '바위'\n",
    "else :\n",
    "    컴퓨터 = '보'\n",
    "    \n",
    "print(\"컴퓨터 : \", 컴퓨터)\n",
    "\n",
    "if 사용자 == 컴퓨터 :\n",
    "    print(\"무승부\")\n",
    "    \n",
    "elif 사용자 == '가위' and 컴퓨터 == '보' :\n",
    "    print(\"승리\")\n",
    "elif 사용자 == '보' and 컴퓨터 == '바위' :\n",
    "    print(\"승리\")\n",
    "elif 사용자 == '바위' and 컴퓨터 == '가위' :\n",
    "    print(\"승리\")\n",
    "    \n",
    "else :\n",
    "    print(\"패배\")"
   ]
  },
  {
   "cell_type": "markdown",
   "id": "distant-density",
   "metadata": {},
   "source": [
    "##### 사용자가 내는 것에 따라 (제어문사용)\n",
    "ex) 사용자가 가위를 냈을 때 - 컴퓨터가 가위, 바위, 보 낸 경우"
   ]
  },
  {
   "cell_type": "code",
   "execution_count": 8,
   "id": "persistent-communications",
   "metadata": {},
   "outputs": [
    {
     "name": "stdout",
     "output_type": "stream",
     "text": [
      "가위, 바위, 보 중 하나를 입력하세요 : 보\n",
      "사용자 :  보\n",
      "컴퓨터 :  가위\n",
      "패배\n"
     ]
    }
   ],
   "source": [
    "import random\n",
    "\n",
    "사용자 = input(\"가위, 바위, 보 중 하나를 입력하세요 : \")\n",
    "print(\"사용자 : \", 사용자)\n",
    "\n",
    "# 컴퓨터가 가위바위보 선택\n",
    "컴퓨터 = random.randint(1,3)\n",
    "\n",
    "if 컴퓨터 == 1:\n",
    "    컴퓨터 = '가위'\n",
    "elif 컴퓨터 == 2:\n",
    "    컴퓨터 = '바위'\n",
    "else :\n",
    "    컴퓨터 = '보'\n",
    "    \n",
    "print(\"컴퓨터 : \", 컴퓨터)\n",
    "\n",
    "if 사용자 == '가위' :\n",
    "    if 컴퓨터 == '가위' : print(\"무승부\")\n",
    "    elif 컴퓨터 == '바위' : print(\"패배\")\n",
    "    else : print(\"승리\")\n",
    "        \n",
    "elif 사용자 == '바위' :\n",
    "    if 컴퓨터 == '가위' : print(\"승리\")\n",
    "    elif 컴퓨터 == '바위' : print(\"무승부\")\n",
    "    else : print(\"패배\")\n",
    "\n",
    "else :\n",
    "    if 컴퓨터 == '가위' : print(\"패배\")\n",
    "    elif 컴퓨터 == '바위' : print(\"승리\")\n",
    "    else : print(\"무승부\")"
   ]
  },
  {
   "cell_type": "markdown",
   "id": "measured-indianapolis",
   "metadata": {},
   "source": [
    "##### 3,6,9 매 차례 사용자로부터 입력받아, 현재 차례에 정답 여부 함께 출력하기\n",
    "- 내가 원하는 숫자를 입력하면 1부터 원하는 숫자까지 반복하는데, 3, 6, 9 의 숫자가 포함되어 있으면 포함된 만큼 박수, 아니라면 해당 숫자 말하기\n",
    "- (계속해서 1,2,3,원하는 수 까지 돌아가지만, 오답이 된다고 해서 중간에 종료하지 않아도 됨)\n",
    "- ex) 사용자입력 : 1 현재차례 1일때\n",
    "- 출력 : 현재차례 1, 사용자 1, 정답\n",
    "- ex) 사용자입력 : 짝, 현재차례 3일때\n",
    "- 출력 : 현재차례 짝, 사용자 짝, 정답"
   ]
  },
  {
   "cell_type": "markdown",
   "id": "genuine-ending",
   "metadata": {},
   "source": [
    "1일 때는 1이 정답\n",
    "3일 때는 짝이 정답\n",
    "내 차례 때 입력을 받아서 i 와 같은지 판별. -- 정답이면 \"정답\", 오답이면 \"오답\"이라고 출력"
   ]
  },
  {
   "cell_type": "code",
   "execution_count": 2,
   "id": "overhead-condition",
   "metadata": {},
   "outputs": [
    {
     "name": "stdout",
     "output_type": "stream",
     "text": [
      "숫자 몇까지 할까요? 3\n",
      "사용자 1\n",
      "현재차례  1\n",
      "정답\n",
      "사용자 2\n",
      "현재차례  2\n",
      "정답\n",
      "사용자 짝\n",
      "현재차례  짝\n",
      "정답\n"
     ]
    }
   ],
   "source": [
    "# 33, 13 등 어떠한 숫자가 나타났을 때\n",
    "# 3,6,9가 들어가는 숫자인지 확인\n",
    "\n",
    "num = int(input(\"숫자 몇까지 할까요? \"))\n",
    "\n",
    "for i in range(1, num+1) :\n",
    "    # 박수 횟수를 판별하고 수행\n",
    "    count = 0\n",
    "    \n",
    "    # 판별할 이번 차례의 숫자\n",
    "    for j in str(i):\n",
    "        if j in ['3', '6', '9']:\n",
    "            count += 1\n",
    "    \n",
    "    user = input(\"사용자 \")\n",
    "\n",
    "    if count == 0:\n",
    "        print(\"현재차례 \", i)\n",
    "        if i == int(user):\n",
    "            print(\"정답\")\n",
    "        else :\n",
    "            print(\"오답\")\n",
    "            \n",
    "    else:\n",
    "        print(\"현재차례 \", count*\"짝\")\n",
    "        if user == count*\"짝\" :\n",
    "            print(\"정답\")\n",
    "        else :\n",
    "            print(\"오답\")"
   ]
  },
  {
   "cell_type": "code",
   "execution_count": null,
   "id": "every-injury",
   "metadata": {},
   "outputs": [],
   "source": []
  }
 ],
 "metadata": {
  "kernelspec": {
   "display_name": "Python 3",
   "language": "python",
   "name": "python3"
  },
  "language_info": {
   "codemirror_mode": {
    "name": "ipython",
    "version": 3
   },
   "file_extension": ".py",
   "mimetype": "text/x-python",
   "name": "python",
   "nbconvert_exporter": "python",
   "pygments_lexer": "ipython3",
   "version": "3.7.4"
  }
 },
 "nbformat": 4,
 "nbformat_minor": 5
}
