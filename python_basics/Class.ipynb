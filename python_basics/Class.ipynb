{
 "cells": [
  {
   "cell_type": "markdown",
   "id": "sudden-shape",
   "metadata": {},
   "source": [
    "### 계산기 클래스의 사칙연산 완성하기\n",
    "\n",
    "- 클래스의 메소드기능으로 add 외에 sub, mul, div"
   ]
  },
  {
   "cell_type": "code",
   "execution_count": 6,
   "id": "grave-tourism",
   "metadata": {},
   "outputs": [],
   "source": [
    "class Calculator:\n",
    "    def __init__(self):\n",
    "        self.value = 0\n",
    "        \n",
    "    def add(self, number):\n",
    "        self.value += number\n",
    "    \n",
    "    def sub(self, number):\n",
    "        self.value -= number\n",
    "        \n",
    "    def mul(self, number):\n",
    "        self.value *= number\n",
    "        \n",
    "    def div(self, number):\n",
    "        self.value /= number"
   ]
  },
  {
   "cell_type": "code",
   "execution_count": 11,
   "id": "convenient-tiffany",
   "metadata": {},
   "outputs": [
    {
     "name": "stdout",
     "output_type": "stream",
     "text": [
      "3\n",
      "0.5\n"
     ]
    }
   ],
   "source": [
    "C = Calculator()\n",
    "C.add(3)\n",
    "print(C.value)\n",
    "C.div(6)\n",
    "print(C.value)"
   ]
  },
  {
   "cell_type": "markdown",
   "id": "occupied-evolution",
   "metadata": {},
   "source": [
    "### 텔레비전의 볼륨을 100, 0, 'mute' 로 만드는 기능 만들기\n",
    "### 텔레비전의 전원을 키고 끄는 기능 만들기\n",
    "\n",
    "- TV.max()\n",
    "- TV.min()\n",
    "- TV.mute()\n",
    "- TV.on()\n",
    "- TV.off()"
   ]
  },
  {
   "cell_type": "code",
   "execution_count": 25,
   "id": "special-toronto",
   "metadata": {},
   "outputs": [],
   "source": [
    "class Television:\n",
    "    def __init__(self, channel, volume, power):\n",
    "        self.channel = channel\n",
    "        self.volume = volume\n",
    "        self.power = power\n",
    "    \n",
    "    def show(self):\n",
    "        print(self.channel, self.volume, self.power)\n",
    "    \n",
    "    def max(self):\n",
    "        self.volume = 100\n",
    "\n",
    "    def min(self):\n",
    "        self.volume = 0\n",
    "\n",
    "    def mute(self):\n",
    "        self.volume = 'mute'\n",
    "    \n",
    "    def on(self):\n",
    "        self.power = True\n",
    "    \n",
    "    def off(self):\n",
    "        self.power = False"
   ]
  },
  {
   "cell_type": "code",
   "execution_count": 29,
   "id": "optical-berry",
   "metadata": {},
   "outputs": [
    {
     "name": "stdout",
     "output_type": "stream",
     "text": [
      "5 0 False\n"
     ]
    },
    {
     "data": {
      "text/plain": [
       "False"
      ]
     },
     "execution_count": 29,
     "metadata": {},
     "output_type": "execute_result"
    }
   ],
   "source": [
    "TV = Television(5, 30, True)\n",
    "TV.off()\n",
    "TV.min()\n",
    "TV.show()\n",
    "TV.power"
   ]
  },
  {
   "cell_type": "code",
   "execution_count": null,
   "id": "subtle-vulnerability",
   "metadata": {},
   "outputs": [],
   "source": []
  },
  {
   "cell_type": "code",
   "execution_count": null,
   "id": "associate-kelly",
   "metadata": {},
   "outputs": [],
   "source": []
  },
  {
   "cell_type": "code",
   "execution_count": null,
   "id": "naked-reproduction",
   "metadata": {},
   "outputs": [],
   "source": []
  },
  {
   "cell_type": "code",
   "execution_count": null,
   "id": "suspended-permit",
   "metadata": {},
   "outputs": [],
   "source": []
  },
  {
   "cell_type": "code",
   "execution_count": null,
   "id": "independent-seattle",
   "metadata": {},
   "outputs": [],
   "source": []
  },
  {
   "cell_type": "code",
   "execution_count": null,
   "id": "framed-merit",
   "metadata": {},
   "outputs": [],
   "source": []
  }
 ],
 "metadata": {
  "kernelspec": {
   "display_name": "Python 3",
   "language": "python",
   "name": "python3"
  },
  "language_info": {
   "codemirror_mode": {
    "name": "ipython",
    "version": 3
   },
   "file_extension": ".py",
   "mimetype": "text/x-python",
   "name": "python",
   "nbconvert_exporter": "python",
   "pygments_lexer": "ipython3",
   "version": "3.7.4"
  }
 },
 "nbformat": 4,
 "nbformat_minor": 5
}
